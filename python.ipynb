{
 "cells": [
  {
   "cell_type": "code",
   "execution_count": null,
   "id": "923bc29a",
   "metadata": {},
   "outputs": [],
   "source": [
    "# python is case sensitive programming Language"
   ]
  },
  {
   "cell_type": "code",
   "execution_count": 1,
   "id": "626cc1ff",
   "metadata": {},
   "outputs": [
    {
     "name": "stdout",
     "output_type": "stream",
     "text": [
      "Hello World!\n"
     ]
    }
   ],
   "source": [
    "print(\"Hello World!\")"
   ]
  },
  {
   "cell_type": "code",
   "execution_count": 2,
   "id": "8a1cf225",
   "metadata": {},
   "outputs": [
    {
     "name": "stdout",
     "output_type": "stream",
     "text": [
      "India Pakistan srilanka Bangladesh\n"
     ]
    }
   ],
   "source": [
    "print(\"India\",\"Pakistan\",\"srilanka\",\"Bangladesh\")"
   ]
  },
  {
   "cell_type": "code",
   "execution_count": 3,
   "id": "84b34f68",
   "metadata": {},
   "outputs": [
    {
     "name": "stdout",
     "output_type": "stream",
     "text": [
      "Shiva\n"
     ]
    }
   ],
   "source": [
    "print('Shiva')"
   ]
  },
  {
   "cell_type": "code",
   "execution_count": 4,
   "id": "5b11a97a",
   "metadata": {},
   "outputs": [
    {
     "name": "stdout",
     "output_type": "stream",
     "text": [
      "1\n"
     ]
    }
   ],
   "source": [
    "print(1)"
   ]
  },
  {
   "cell_type": "code",
   "execution_count": 5,
   "id": "1c646d5f",
   "metadata": {},
   "outputs": [
    {
     "name": "stdout",
     "output_type": "stream",
     "text": [
      "10000\n"
     ]
    }
   ],
   "source": [
    "print(10000)"
   ]
  },
  {
   "cell_type": "code",
   "execution_count": 6,
   "id": "489e417d",
   "metadata": {},
   "outputs": [
    {
     "name": "stdout",
     "output_type": "stream",
     "text": [
      "2.0\n"
     ]
    }
   ],
   "source": [
    "print(2.0)"
   ]
  },
  {
   "cell_type": "code",
   "execution_count": 7,
   "id": "bb322ed2",
   "metadata": {},
   "outputs": [
    {
     "name": "stdout",
     "output_type": "stream",
     "text": [
      "True\n"
     ]
    }
   ],
   "source": [
    "print(True)"
   ]
  },
  {
   "cell_type": "code",
   "execution_count": 8,
   "id": "e4c11589",
   "metadata": {},
   "outputs": [
    {
     "name": "stdout",
     "output_type": "stream",
     "text": [
      "False\n"
     ]
    }
   ],
   "source": [
    "print(False)"
   ]
  },
  {
   "cell_type": "code",
   "execution_count": 9,
   "id": "22c79cad",
   "metadata": {},
   "outputs": [
    {
     "name": "stdout",
     "output_type": "stream",
     "text": [
      "India 1 True\n"
     ]
    }
   ],
   "source": [
    "print(\"India\",1,True)"
   ]
  },
  {
   "cell_type": "code",
   "execution_count": null,
   "id": "348ee96f",
   "metadata": {},
   "outputs": [],
   "source": [
    "# In Anaconda, if you want any description regarding any keyword or function press shift + tab"
   ]
  },
  {
   "cell_type": "code",
   "execution_count": 10,
   "id": "058d87be",
   "metadata": {},
   "outputs": [
    {
     "name": "stdout",
     "output_type": "stream",
     "text": [
      "India/Pakistan/srilanka/Bangladesh\n"
     ]
    }
   ],
   "source": [
    "print(\"India\",\"Pakistan\",\"srilanka\",\"Bangladesh\",sep = \"/\")"
   ]
  },
  {
   "cell_type": "code",
   "execution_count": 11,
   "id": "918cb53c",
   "metadata": {},
   "outputs": [
    {
     "name": "stdout",
     "output_type": "stream",
     "text": [
      "India-Pakistan-srilanka-Bangladesh\n"
     ]
    }
   ],
   "source": [
    "print(\"India\",\"Pakistan\",\"srilanka\",\"Bangladesh\",sep = \"-\")"
   ]
  },
  {
   "cell_type": "code",
   "execution_count": 12,
   "id": "bc4f7668",
   "metadata": {},
   "outputs": [
    {
     "name": "stdout",
     "output_type": "stream",
     "text": [
      "Shiva\n",
      "Shiva\n"
     ]
    }
   ],
   "source": [
    "# end = \"/n\"\n",
    "print(\"Shiva\")\n",
    "print(\"Shiva\")"
   ]
  },
  {
   "cell_type": "code",
   "execution_count": 15,
   "id": "8c71e96f",
   "metadata": {},
   "outputs": [
    {
     "name": "stdout",
     "output_type": "stream",
     "text": [
      "Hello World\n"
     ]
    }
   ],
   "source": [
    "print(\"Hello\",end=\" \")\n",
    "print(\"World\")"
   ]
  },
  {
   "cell_type": "markdown",
   "id": "0c83a254",
   "metadata": {},
   "source": [
    "## Data Types"
   ]
  },
  {
   "cell_type": "code",
   "execution_count": null,
   "id": "8a0f1fe7",
   "metadata": {},
   "outputs": [],
   "source": [
    "# Basic Types \n",
    "# int , float , complex , boolean and string\n",
    "\n",
    "# container types\n",
    "# (list, tuples , sets , dictionary)\n",
    "\n",
    "# User-defined types \n",
    "# class"
   ]
  },
  {
   "cell_type": "code",
   "execution_count": 16,
   "id": "919084aa",
   "metadata": {},
   "outputs": [
    {
     "name": "stdout",
     "output_type": "stream",
     "text": [
      "4\n"
     ]
    }
   ],
   "source": [
    "# integer\n",
    "print(4)"
   ]
  },
  {
   "cell_type": "code",
   "execution_count": 18,
   "id": "1687019c",
   "metadata": {},
   "outputs": [
    {
     "name": "stdout",
     "output_type": "stream",
     "text": [
      "inf\n"
     ]
    }
   ],
   "source": [
    "# max number in python in integer it shows infinite\n",
    "print(1e309)"
   ]
  },
  {
   "cell_type": "code",
   "execution_count": 22,
   "id": "1427980b",
   "metadata": {},
   "outputs": [
    {
     "name": "stdout",
     "output_type": "stream",
     "text": [
      "1.2\n",
      "inf\n"
     ]
    }
   ],
   "source": [
    "# float\n",
    "print(1.2)\n",
    "print(1.7e309)"
   ]
  },
  {
   "cell_type": "code",
   "execution_count": 24,
   "id": "0102a410",
   "metadata": {},
   "outputs": [
    {
     "name": "stdout",
     "output_type": "stream",
     "text": [
      "True\n",
      "False\n"
     ]
    }
   ],
   "source": [
    "# Boolean \n",
    "print(True)\n",
    "print(False)"
   ]
  },
  {
   "cell_type": "code",
   "execution_count": 25,
   "id": "df366d51",
   "metadata": {},
   "outputs": [
    {
     "name": "stdout",
     "output_type": "stream",
     "text": [
      "(4+5j)\n"
     ]
    }
   ],
   "source": [
    "# Complex\n",
    "print(4+5j)"
   ]
  },
  {
   "cell_type": "code",
   "execution_count": 26,
   "id": "26ec0859",
   "metadata": {},
   "outputs": [
    {
     "name": "stdout",
     "output_type": "stream",
     "text": [
      "SHIva\n",
      "shiva\n",
      "Shiva\n"
     ]
    }
   ],
   "source": [
    "# String\n",
    "print('SHIva')\n",
    "print(\"shiva\")\n",
    "print(\"\"\"Shiva\"\"\")"
   ]
  },
  {
   "cell_type": "code",
   "execution_count": 27,
   "id": "8b7beaa0",
   "metadata": {},
   "outputs": [
    {
     "name": "stdout",
     "output_type": "stream",
     "text": [
      "[1, 2, 3, 4, 5]\n"
     ]
    }
   ],
   "source": [
    "# container Data types\n",
    "# list\n",
    "# square bracket\n",
    "print([1,2,3,4,5])"
   ]
  },
  {
   "cell_type": "code",
   "execution_count": 28,
   "id": "aad2e355",
   "metadata": {},
   "outputs": [
    {
     "name": "stdout",
     "output_type": "stream",
     "text": [
      "(1, 2, 3, 4, 5)\n"
     ]
    }
   ],
   "source": [
    "#tuple\n",
    "# small bracket\n",
    "print((1,2,3,4,5))"
   ]
  },
  {
   "cell_type": "code",
   "execution_count": 29,
   "id": "52949b6e",
   "metadata": {},
   "outputs": [
    {
     "name": "stdout",
     "output_type": "stream",
     "text": [
      "{1, 2, 3, 4, 5}\n"
     ]
    }
   ],
   "source": [
    "# sets\n",
    "print({1,2,3,4,5})"
   ]
  },
  {
   "cell_type": "code",
   "execution_count": 30,
   "id": "375ed4ab",
   "metadata": {},
   "outputs": [
    {
     "name": "stdout",
     "output_type": "stream",
     "text": [
      "{'Name': 'Shiva', 'Age': 30, 'Gender': 'Male'}\n"
     ]
    }
   ],
   "source": [
    "# Dictionary\n",
    "# Key , Value pairs\n",
    "print({\"Name\":\"Shiva\",\"Age\":30,\"Gender\":\"Male\"})"
   ]
  },
  {
   "cell_type": "markdown",
   "id": "6126905e",
   "metadata": {},
   "source": [
    "## comments"
   ]
  },
  {
   "cell_type": "code",
   "execution_count": 31,
   "id": "e1d45417",
   "metadata": {},
   "outputs": [],
   "source": [
    "# comments\n",
    "# A piece of code which is not execute by compiler \n",
    "# comments are used to different purposes which are future code description or documents for code readibility\n",
    "# this is a comment\n",
    "# In python we cannot write multi lines like other langauges"
   ]
  },
  {
   "cell_type": "markdown",
   "id": "17451e54",
   "metadata": {},
   "source": [
    "## Variables"
   ]
  },
  {
   "cell_type": "code",
   "execution_count": null,
   "id": "253b0022",
   "metadata": {},
   "outputs": [],
   "source": [
    "# variables are containers for future use \n",
    "# two types\n",
    "# Dynamic typing\n",
    "# Dynamic binding"
   ]
  },
  {
   "cell_type": "code",
   "execution_count": 32,
   "id": "285dd180",
   "metadata": {},
   "outputs": [],
   "source": [
    "name = 'Shiva'"
   ]
  },
  {
   "cell_type": "code",
   "execution_count": 33,
   "id": "6c9e7dce",
   "metadata": {},
   "outputs": [
    {
     "name": "stdout",
     "output_type": "stream",
     "text": [
      "Shiva\n"
     ]
    }
   ],
   "source": [
    "print(name)"
   ]
  },
  {
   "cell_type": "code",
   "execution_count": 35,
   "id": "ba847c0f",
   "metadata": {},
   "outputs": [],
   "source": [
    "name = \"Hello World\""
   ]
  },
  {
   "cell_type": "code",
   "execution_count": 36,
   "id": "17290417",
   "metadata": {},
   "outputs": [
    {
     "name": "stdout",
     "output_type": "stream",
     "text": [
      "Hello World\n"
     ]
    }
   ],
   "source": [
    "print(name)"
   ]
  },
  {
   "cell_type": "code",
   "execution_count": 37,
   "id": "59067412",
   "metadata": {},
   "outputs": [],
   "source": [
    "# No variable declaration in python\n",
    "# Dynamic typing -- PHP lang also same feature\n",
    "# static typing"
   ]
  },
  {
   "cell_type": "code",
   "execution_count": 38,
   "id": "a9ac6b1f",
   "metadata": {},
   "outputs": [
    {
     "name": "stdout",
     "output_type": "stream",
     "text": [
      "4\n"
     ]
    }
   ],
   "source": [
    "name = 4\n",
    "print(name)"
   ]
  },
  {
   "cell_type": "code",
   "execution_count": 39,
   "id": "820517d2",
   "metadata": {},
   "outputs": [
    {
     "name": "stdout",
     "output_type": "stream",
     "text": [
      "True\n"
     ]
    }
   ],
   "source": [
    "name = True\n",
    "print(name)"
   ]
  },
  {
   "cell_type": "code",
   "execution_count": null,
   "id": "0f8f084a",
   "metadata": {},
   "outputs": [],
   "source": [
    "# Dynamic Binding\n",
    "# A variable can store multiple datatypes values \n",
    "# Static Binding"
   ]
  },
  {
   "cell_type": "code",
   "execution_count": 40,
   "id": "f95c67d9",
   "metadata": {},
   "outputs": [
    {
     "name": "stdout",
     "output_type": "stream",
     "text": [
      "1\n",
      "10\n",
      "21\n"
     ]
    }
   ],
   "source": [
    "# special syntax\n",
    "a = 1 ; b= 10 ; c = 21\n",
    "print(a)\n",
    "print(b)\n",
    "print(c)"
   ]
  },
  {
   "cell_type": "code",
   "execution_count": 41,
   "id": "bdf8154d",
   "metadata": {},
   "outputs": [
    {
     "name": "stdout",
     "output_type": "stream",
     "text": [
      "6\n",
      "6\n",
      "6\n"
     ]
    }
   ],
   "source": [
    "a = b = c = 6\n",
    "print(a)\n",
    "print(b)\n",
    "print(c)"
   ]
  },
  {
   "cell_type": "markdown",
   "id": "ab80eb25",
   "metadata": {},
   "source": [
    "## keywords & Identifiers"
   ]
  },
  {
   "cell_type": "code",
   "execution_count": 42,
   "id": "baff6020",
   "metadata": {},
   "outputs": [],
   "source": [
    "# keywords\n",
    "# python is a case sensitive programming language\n",
    "# keywords cannot be used as variables names"
   ]
  },
  {
   "cell_type": "code",
   "execution_count": 43,
   "id": "85c2a47a",
   "metadata": {},
   "outputs": [
    {
     "name": "stdout",
     "output_type": "stream",
     "text": [
      "['False', 'None', 'True', 'and', 'as', 'assert', 'async', 'await', 'break', 'class', 'continue', 'def', 'del', 'elif', 'else', 'except', 'finally', 'for', 'from', 'global', 'if', 'import', 'in', 'is', 'lambda', 'nonlocal', 'not', 'or', 'pass', 'raise', 'return', 'try', 'while', 'with', 'yield']\n"
     ]
    }
   ],
   "source": [
    "# python has 33 keywords\n",
    "import keyword\n",
    "print(keyword.kwlist)"
   ]
  },
  {
   "cell_type": "code",
   "execution_count": null,
   "id": "fd6e2502",
   "metadata": {},
   "outputs": [],
   "source": [
    "# Identifiers\n",
    "# A python identifier is a name used to identify a variable , Function ,class , module or other objects"
   ]
  },
  {
   "cell_type": "code",
   "execution_count": null,
   "id": "c3c2af75",
   "metadata": {},
   "outputs": [],
   "source": [
    "# Rules for setting Identifiers\n",
    "# 1 . Can only start with an alphabet or _(underscore), cannot use characters\n",
    "# 2. Followed by 0 or more letter , _(underscore) and digits\n",
    "# keywords cannot be used as identifiers"
   ]
  },
  {
   "cell_type": "code",
   "execution_count": 44,
   "id": "45f5648d",
   "metadata": {},
   "outputs": [
    {
     "name": "stdout",
     "output_type": "stream",
     "text": [
      "Shiva\n"
     ]
    }
   ],
   "source": [
    "_ = \"Shiva\"\n",
    "print(_)"
   ]
  },
  {
   "cell_type": "code",
   "execution_count": 45,
   "id": "634be80d",
   "metadata": {},
   "outputs": [
    {
     "name": "stdout",
     "output_type": "stream",
     "text": [
      "shiva\n"
     ]
    }
   ],
   "source": [
    "first_name = \"shiva\"\n",
    "print(first_name)"
   ]
  },
  {
   "cell_type": "markdown",
   "id": "5e19766a",
   "metadata": {},
   "source": [
    "## User-Input"
   ]
  },
  {
   "cell_type": "code",
   "execution_count": 47,
   "id": "0bdfdc93",
   "metadata": {},
   "outputs": [
    {
     "name": "stdout",
     "output_type": "stream",
     "text": [
      "Enter Your Name: Shiva Nagendra Babu\n",
      "Shiva Nagendra Babu\n"
     ]
    }
   ],
   "source": [
    "# input()\n",
    "name = input(\"Enter Your Name: \")\n",
    "print(name)"
   ]
  },
  {
   "cell_type": "code",
   "execution_count": 50,
   "id": "04d02922",
   "metadata": {},
   "outputs": [
    {
     "name": "stdout",
     "output_type": "stream",
     "text": [
      "Enter the First Number: 123\n",
      "Enter the Second Number: 123\n",
      "Result is: 246\n"
     ]
    }
   ],
   "source": [
    "first_number = int(input(\"Enter the First Number: \"))\n",
    "second_number = int(input(\"Enter the Second Number: \"))\n",
    "Total = first_number + second_number\n",
    "print(\"Result is:\",Total)"
   ]
  },
  {
   "cell_type": "code",
   "execution_count": 51,
   "id": "7405bb5f",
   "metadata": {},
   "outputs": [
    {
     "data": {
      "text/plain": [
       "int"
      ]
     },
     "execution_count": 51,
     "metadata": {},
     "output_type": "execute_result"
    }
   ],
   "source": [
    "# type()\n",
    "type(first_number)"
   ]
  },
  {
   "cell_type": "markdown",
   "id": "ff481add",
   "metadata": {},
   "source": [
    "## Type-conversion"
   ]
  },
  {
   "cell_type": "code",
   "execution_count": 52,
   "id": "9acfc95d",
   "metadata": {},
   "outputs": [],
   "source": [
    "# Converting one data type to another data type\n",
    "# implicit type conversion\n",
    "# explicit type conversion"
   ]
  },
  {
   "cell_type": "code",
   "execution_count": 53,
   "id": "58a7c73b",
   "metadata": {},
   "outputs": [
    {
     "data": {
      "text/plain": [
       "9.5"
      ]
     },
     "execution_count": 53,
     "metadata": {},
     "output_type": "execute_result"
    }
   ],
   "source": [
    "4 + 5.5"
   ]
  },
  {
   "cell_type": "code",
   "execution_count": 54,
   "id": "eaa47fe8",
   "metadata": {},
   "outputs": [
    {
     "data": {
      "text/plain": [
       "4"
      ]
     },
     "execution_count": 54,
     "metadata": {},
     "output_type": "execute_result"
    }
   ],
   "source": [
    "int(4.5)"
   ]
  },
  {
   "cell_type": "code",
   "execution_count": 55,
   "id": "4ae65b49",
   "metadata": {},
   "outputs": [
    {
     "data": {
      "text/plain": [
       "234"
      ]
     },
     "execution_count": 55,
     "metadata": {},
     "output_type": "execute_result"
    }
   ],
   "source": [
    "a = int('234')"
   ]
  },
  {
   "cell_type": "code",
   "execution_count": 56,
   "id": "c81b57fe",
   "metadata": {},
   "outputs": [
    {
     "data": {
      "text/plain": [
       "int"
      ]
     },
     "execution_count": 56,
     "metadata": {},
     "output_type": "execute_result"
    }
   ],
   "source": [
    "type(a)"
   ]
  },
  {
   "cell_type": "code",
   "execution_count": 57,
   "id": "c5274e9f",
   "metadata": {},
   "outputs": [
    {
     "data": {
      "text/plain": [
       "3.0"
      ]
     },
     "execution_count": 57,
     "metadata": {},
     "output_type": "execute_result"
    }
   ],
   "source": [
    "float (3)"
   ]
  },
  {
   "cell_type": "code",
   "execution_count": 58,
   "id": "d1455599",
   "metadata": {},
   "outputs": [
    {
     "data": {
      "text/plain": [
       "'4'"
      ]
     },
     "execution_count": 58,
     "metadata": {},
     "output_type": "execute_result"
    }
   ],
   "source": [
    "str(4)"
   ]
  },
  {
   "cell_type": "code",
   "execution_count": 59,
   "id": "20573d89",
   "metadata": {},
   "outputs": [
    {
     "data": {
      "text/plain": [
       "True"
      ]
     },
     "execution_count": 59,
     "metadata": {},
     "output_type": "execute_result"
    }
   ],
   "source": [
    "bool(1)"
   ]
  },
  {
   "cell_type": "code",
   "execution_count": 60,
   "id": "59b52781",
   "metadata": {},
   "outputs": [
    {
     "data": {
      "text/plain": [
       "(5+0j)"
      ]
     },
     "execution_count": 60,
     "metadata": {},
     "output_type": "execute_result"
    }
   ],
   "source": [
    "complex(5)"
   ]
  },
  {
   "cell_type": "code",
   "execution_count": 61,
   "id": "efa3cde6",
   "metadata": {},
   "outputs": [
    {
     "data": {
      "text/plain": [
       "['S', 'h', 'i', 'v', 'a']"
      ]
     },
     "execution_count": 61,
     "metadata": {},
     "output_type": "execute_result"
    }
   ],
   "source": [
    "list(\"Shiva\")"
   ]
  },
  {
   "cell_type": "code",
   "execution_count": 62,
   "id": "d24ecce2",
   "metadata": {},
   "outputs": [
    {
     "data": {
      "text/plain": [
       "('s', 'h', 'i', 'v', 'a')"
      ]
     },
     "execution_count": 62,
     "metadata": {},
     "output_type": "execute_result"
    }
   ],
   "source": [
    "tuple('shiva')"
   ]
  },
  {
   "cell_type": "code",
   "execution_count": 65,
   "id": "d98ac2f9",
   "metadata": {},
   "outputs": [],
   "source": [
    "a = 4.5"
   ]
  },
  {
   "cell_type": "code",
   "execution_count": 67,
   "id": "c109a843",
   "metadata": {},
   "outputs": [
    {
     "data": {
      "text/plain": [
       "4"
      ]
     },
     "execution_count": 67,
     "metadata": {},
     "output_type": "execute_result"
    }
   ],
   "source": [
    "int(a)"
   ]
  },
  {
   "cell_type": "code",
   "execution_count": 68,
   "id": "c8b05150",
   "metadata": {},
   "outputs": [
    {
     "data": {
      "text/plain": [
       "4.5"
      ]
     },
     "execution_count": 68,
     "metadata": {},
     "output_type": "execute_result"
    }
   ],
   "source": [
    "a"
   ]
  },
  {
   "cell_type": "code",
   "execution_count": null,
   "id": "0fe2b517",
   "metadata": {},
   "outputs": [],
   "source": []
  }
 ],
 "metadata": {
  "kernelspec": {
   "display_name": "Python 3 (ipykernel)",
   "language": "python",
   "name": "python3"
  },
  "language_info": {
   "codemirror_mode": {
    "name": "ipython",
    "version": 3
   },
   "file_extension": ".py",
   "mimetype": "text/x-python",
   "name": "python",
   "nbconvert_exporter": "python",
   "pygments_lexer": "ipython3",
   "version": "3.11.5"
  }
 },
 "nbformat": 4,
 "nbformat_minor": 5
}
