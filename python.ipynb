{
 "cells": [
  {
   "cell_type": "markdown",
   "id": "4660c5c9",
   "metadata": {},
   "source": [
    "## python is case sensitive programming Language"
   ]
  },
  {
   "cell_type": "code",
   "execution_count": 1,
   "id": "ad4cf08f",
   "metadata": {},
   "outputs": [
    {
     "name": "stdout",
     "output_type": "stream",
     "text": [
      "Hello World!\n"
     ]
    }
   ],
   "source": [
    "print(\"Hello World!\")"
   ]
  },
  {
   "cell_type": "code",
   "execution_count": 2,
   "id": "1413c9dd",
   "metadata": {},
   "outputs": [
    {
     "name": "stdout",
     "output_type": "stream",
     "text": [
      "India Pakistan srilanka Bangladesh\n"
     ]
    }
   ],
   "source": [
    "print(\"India\",\"Pakistan\",\"srilanka\",\"Bangladesh\")"
   ]
  },
  {
   "cell_type": "code",
   "execution_count": 3,
   "id": "3b405c61",
   "metadata": {},
   "outputs": [
    {
     "name": "stdout",
     "output_type": "stream",
     "text": [
      "Shiva\n"
     ]
    }
   ],
   "source": [
    "print('Shiva')"
   ]
  },
  {
   "cell_type": "code",
   "execution_count": 4,
   "id": "0f31f15a",
   "metadata": {},
   "outputs": [
    {
     "name": "stdout",
     "output_type": "stream",
     "text": [
      "1\n"
     ]
    }
   ],
   "source": [
    "print(1)"
   ]
  },
  {
   "cell_type": "code",
   "execution_count": 5,
   "id": "7affad23",
   "metadata": {},
   "outputs": [
    {
     "name": "stdout",
     "output_type": "stream",
     "text": [
      "10000\n"
     ]
    }
   ],
   "source": [
    "print(10000)"
   ]
  },
  {
   "cell_type": "code",
   "execution_count": 6,
   "id": "4200ffa9",
   "metadata": {},
   "outputs": [
    {
     "name": "stdout",
     "output_type": "stream",
     "text": [
      "2.0\n"
     ]
    }
   ],
   "source": [
    "print(2.0)"
   ]
  },
  {
   "cell_type": "code",
   "execution_count": 7,
   "id": "0baf686b",
   "metadata": {},
   "outputs": [
    {
     "name": "stdout",
     "output_type": "stream",
     "text": [
      "True\n"
     ]
    }
   ],
   "source": [
    "print(True)"
   ]
  },
  {
   "cell_type": "code",
   "execution_count": 8,
   "id": "13ee2bed",
   "metadata": {},
   "outputs": [
    {
     "name": "stdout",
     "output_type": "stream",
     "text": [
      "False\n"
     ]
    }
   ],
   "source": [
    "print(False)"
   ]
  },
  {
   "cell_type": "code",
   "execution_count": 9,
   "id": "e076f7a1",
   "metadata": {},
   "outputs": [
    {
     "name": "stdout",
     "output_type": "stream",
     "text": [
      "India 1 True\n"
     ]
    }
   ],
   "source": [
    "print(\"India\",1,True)"
   ]
  },
  {
   "cell_type": "code",
   "execution_count": null,
   "id": "634c39be",
   "metadata": {},
   "outputs": [],
   "source": [
    "# In Anaconda, if you want any description regarding any keyword or function press shift + tab"
   ]
  },
  {
   "cell_type": "code",
   "execution_count": 10,
   "id": "a7f4887b",
   "metadata": {},
   "outputs": [
    {
     "name": "stdout",
     "output_type": "stream",
     "text": [
      "India/Pakistan/srilanka/Bangladesh\n"
     ]
    }
   ],
   "source": [
    "print(\"India\",\"Pakistan\",\"srilanka\",\"Bangladesh\",sep = \"/\")"
   ]
  },
  {
   "cell_type": "code",
   "execution_count": 11,
   "id": "66f0bf2d",
   "metadata": {},
   "outputs": [
    {
     "name": "stdout",
     "output_type": "stream",
     "text": [
      "India-Pakistan-srilanka-Bangladesh\n"
     ]
    }
   ],
   "source": [
    "print(\"India\",\"Pakistan\",\"srilanka\",\"Bangladesh\",sep = \"-\")"
   ]
  },
  {
   "cell_type": "code",
   "execution_count": 12,
   "id": "18273555",
   "metadata": {},
   "outputs": [
    {
     "name": "stdout",
     "output_type": "stream",
     "text": [
      "Shiva\n",
      "Shiva\n"
     ]
    }
   ],
   "source": [
    "# end = \"/n\"\n",
    "print(\"Shiva\")\n",
    "print(\"Shiva\")"
   ]
  },
  {
   "cell_type": "code",
   "execution_count": 15,
   "id": "c234b91c",
   "metadata": {},
   "outputs": [
    {
     "name": "stdout",
     "output_type": "stream",
     "text": [
      "Hello World\n"
     ]
    }
   ],
   "source": [
    "print(\"Hello\",end=\" \")\n",
    "print(\"World\")"
   ]
  },
  {
   "cell_type": "markdown",
   "id": "dce29dc4",
   "metadata": {},
   "source": [
    "## Data Types"
   ]
  },
  {
   "cell_type": "code",
   "execution_count": null,
   "id": "86854aad",
   "metadata": {},
   "outputs": [],
   "source": [
    "# Basic Types \n",
    "# int , float , complex , boolean and string\n",
    "\n",
    "# container types\n",
    "# (list, tuples , sets , dictionary)\n",
    "\n",
    "# User-defined types \n",
    "# class"
   ]
  },
  {
   "cell_type": "code",
   "execution_count": 16,
   "id": "b7219871",
   "metadata": {},
   "outputs": [
    {
     "name": "stdout",
     "output_type": "stream",
     "text": [
      "4\n"
     ]
    }
   ],
   "source": [
    "# integer\n",
    "print(4)"
   ]
  },
  {
   "cell_type": "code",
   "execution_count": 18,
   "id": "752d4817",
   "metadata": {},
   "outputs": [
    {
     "name": "stdout",
     "output_type": "stream",
     "text": [
      "inf\n"
     ]
    }
   ],
   "source": [
    "# max number in python in integer it shows infinite\n",
    "print(1e309)"
   ]
  },
  {
   "cell_type": "code",
   "execution_count": 22,
   "id": "126681f3",
   "metadata": {},
   "outputs": [
    {
     "name": "stdout",
     "output_type": "stream",
     "text": [
      "1.2\n",
      "inf\n"
     ]
    }
   ],
   "source": [
    "# float\n",
    "print(1.2)\n",
    "print(1.7e309)"
   ]
  },
  {
   "cell_type": "code",
   "execution_count": 24,
   "id": "d910a048",
   "metadata": {},
   "outputs": [
    {
     "name": "stdout",
     "output_type": "stream",
     "text": [
      "True\n",
      "False\n"
     ]
    }
   ],
   "source": [
    "# Boolean \n",
    "print(True)\n",
    "print(False)"
   ]
  },
  {
   "cell_type": "code",
   "execution_count": 25,
   "id": "0465bcb0",
   "metadata": {},
   "outputs": [
    {
     "name": "stdout",
     "output_type": "stream",
     "text": [
      "(4+5j)\n"
     ]
    }
   ],
   "source": [
    "# Complex\n",
    "print(4+5j)"
   ]
  },
  {
   "cell_type": "code",
   "execution_count": 26,
   "id": "fc51fb61",
   "metadata": {},
   "outputs": [
    {
     "name": "stdout",
     "output_type": "stream",
     "text": [
      "SHIva\n",
      "shiva\n",
      "Shiva\n"
     ]
    }
   ],
   "source": [
    "# String\n",
    "print('SHIva')\n",
    "print(\"shiva\")\n",
    "print(\"\"\"Shiva\"\"\")"
   ]
  },
  {
   "cell_type": "code",
   "execution_count": 27,
   "id": "afe8ecde",
   "metadata": {},
   "outputs": [
    {
     "name": "stdout",
     "output_type": "stream",
     "text": [
      "[1, 2, 3, 4, 5]\n"
     ]
    }
   ],
   "source": [
    "# container Data types\n",
    "# list\n",
    "# square bracket\n",
    "print([1,2,3,4,5])"
   ]
  },
  {
   "cell_type": "code",
   "execution_count": 28,
   "id": "fcaed5cd",
   "metadata": {},
   "outputs": [
    {
     "name": "stdout",
     "output_type": "stream",
     "text": [
      "(1, 2, 3, 4, 5)\n"
     ]
    }
   ],
   "source": [
    "#tuple\n",
    "# small bracket\n",
    "print((1,2,3,4,5))"
   ]
  },
  {
   "cell_type": "code",
   "execution_count": 29,
   "id": "02b09c80",
   "metadata": {},
   "outputs": [
    {
     "name": "stdout",
     "output_type": "stream",
     "text": [
      "{1, 2, 3, 4, 5}\n"
     ]
    }
   ],
   "source": [
    "# sets\n",
    "print({1,2,3,4,5})"
   ]
  },
  {
   "cell_type": "code",
   "execution_count": 30,
   "id": "79fcd189",
   "metadata": {},
   "outputs": [
    {
     "name": "stdout",
     "output_type": "stream",
     "text": [
      "{'Name': 'Shiva', 'Age': 30, 'Gender': 'Male'}\n"
     ]
    }
   ],
   "source": [
    "# Dictionary\n",
    "# Key , Value pairs\n",
    "print({\"Name\":\"Shiva\",\"Age\":30,\"Gender\":\"Male\"})"
   ]
  },
  {
   "cell_type": "markdown",
   "id": "475d9525",
   "metadata": {},
   "source": [
    "## comments"
   ]
  },
  {
   "cell_type": "code",
   "execution_count": 31,
   "id": "a341ba8b",
   "metadata": {},
   "outputs": [],
   "source": [
    "# comments\n",
    "# A piece of code which is not execute by compiler \n",
    "# comments are used to different purposes which are future code description or documents for code readibility\n",
    "# this is a comment\n",
    "# In python we cannot write multi lines like other langauges"
   ]
  },
  {
   "cell_type": "markdown",
   "id": "fdf62cc0",
   "metadata": {},
   "source": [
    "## Variables"
   ]
  },
  {
   "cell_type": "code",
   "execution_count": null,
   "id": "6f4226eb",
   "metadata": {},
   "outputs": [],
   "source": [
    "# variables are containers for future use \n",
    "# two types\n",
    "# Dynamic typing\n",
    "# Dynamic binding"
   ]
  },
  {
   "cell_type": "code",
   "execution_count": 32,
   "id": "56b91ec7",
   "metadata": {},
   "outputs": [],
   "source": [
    "name = 'Shiva'"
   ]
  },
  {
   "cell_type": "code",
   "execution_count": 33,
   "id": "7de52831",
   "metadata": {},
   "outputs": [
    {
     "name": "stdout",
     "output_type": "stream",
     "text": [
      "Shiva\n"
     ]
    }
   ],
   "source": [
    "print(name)"
   ]
  },
  {
   "cell_type": "code",
   "execution_count": 35,
   "id": "ba27ce16",
   "metadata": {},
   "outputs": [],
   "source": [
    "name = \"Hello World\""
   ]
  },
  {
   "cell_type": "code",
   "execution_count": 36,
   "id": "c262e026",
   "metadata": {},
   "outputs": [
    {
     "name": "stdout",
     "output_type": "stream",
     "text": [
      "Hello World\n"
     ]
    }
   ],
   "source": [
    "print(name)"
   ]
  },
  {
   "cell_type": "code",
   "execution_count": 37,
   "id": "f19aadca",
   "metadata": {},
   "outputs": [],
   "source": [
    "# No variable declaration in python\n",
    "# Dynamic typing -- PHP lang also same feature\n",
    "# static typing"
   ]
  },
  {
   "cell_type": "code",
   "execution_count": 38,
   "id": "3da47c6e",
   "metadata": {},
   "outputs": [
    {
     "name": "stdout",
     "output_type": "stream",
     "text": [
      "4\n"
     ]
    }
   ],
   "source": [
    "name = 4\n",
    "print(name)"
   ]
  },
  {
   "cell_type": "code",
   "execution_count": 39,
   "id": "05d9ff51",
   "metadata": {},
   "outputs": [
    {
     "name": "stdout",
     "output_type": "stream",
     "text": [
      "True\n"
     ]
    }
   ],
   "source": [
    "name = True\n",
    "print(name)"
   ]
  },
  {
   "cell_type": "code",
   "execution_count": null,
   "id": "28b58ce8",
   "metadata": {},
   "outputs": [],
   "source": [
    "# Dynamic Binding\n",
    "# A variable can store multiple datatypes values \n",
    "# Static Binding"
   ]
  },
  {
   "cell_type": "code",
   "execution_count": 40,
   "id": "352cc96e",
   "metadata": {},
   "outputs": [
    {
     "name": "stdout",
     "output_type": "stream",
     "text": [
      "1\n",
      "10\n",
      "21\n"
     ]
    }
   ],
   "source": [
    "# special syntax\n",
    "a = 1 ; b= 10 ; c = 21\n",
    "print(a)\n",
    "print(b)\n",
    "print(c)"
   ]
  },
  {
   "cell_type": "code",
   "execution_count": 41,
   "id": "4f096934",
   "metadata": {},
   "outputs": [
    {
     "name": "stdout",
     "output_type": "stream",
     "text": [
      "6\n",
      "6\n",
      "6\n"
     ]
    }
   ],
   "source": [
    "a = b = c = 6\n",
    "print(a)\n",
    "print(b)\n",
    "print(c)"
   ]
  },
  {
   "cell_type": "markdown",
   "id": "84fc981b",
   "metadata": {},
   "source": [
    "## keywords & Identifiers"
   ]
  },
  {
   "cell_type": "code",
   "execution_count": 42,
   "id": "01b52937",
   "metadata": {},
   "outputs": [],
   "source": [
    "# keywords\n",
    "# python is a case sensitive programming language\n",
    "# keywords cannot be used as variables names"
   ]
  },
  {
   "cell_type": "code",
   "execution_count": 43,
   "id": "57e6626a",
   "metadata": {},
   "outputs": [
    {
     "name": "stdout",
     "output_type": "stream",
     "text": [
      "['False', 'None', 'True', 'and', 'as', 'assert', 'async', 'await', 'break', 'class', 'continue', 'def', 'del', 'elif', 'else', 'except', 'finally', 'for', 'from', 'global', 'if', 'import', 'in', 'is', 'lambda', 'nonlocal', 'not', 'or', 'pass', 'raise', 'return', 'try', 'while', 'with', 'yield']\n"
     ]
    }
   ],
   "source": [
    "# python has 33 keywords\n",
    "import keyword\n",
    "print(keyword.kwlist)"
   ]
  },
  {
   "cell_type": "code",
   "execution_count": null,
   "id": "3a5589e3",
   "metadata": {},
   "outputs": [],
   "source": [
    "# Identifiers\n",
    "# A python identifier is a name used to identify a variable , Function ,class , module or other objects"
   ]
  },
  {
   "cell_type": "code",
   "execution_count": null,
   "id": "e21fcb38",
   "metadata": {},
   "outputs": [],
   "source": [
    "# Rules for setting Identifiers\n",
    "# 1 . Can only start with an alphabet or _(underscore), cannot use characters\n",
    "# 2. Followed by 0 or more letter , _(underscore) and digits\n",
    "# keywords cannot be used as identifiers"
   ]
  },
  {
   "cell_type": "code",
   "execution_count": 44,
   "id": "4efce3e7",
   "metadata": {},
   "outputs": [
    {
     "name": "stdout",
     "output_type": "stream",
     "text": [
      "Shiva\n"
     ]
    }
   ],
   "source": [
    "_ = \"Shiva\"\n",
    "print(_)"
   ]
  },
  {
   "cell_type": "code",
   "execution_count": 45,
   "id": "a9b7a16d",
   "metadata": {},
   "outputs": [
    {
     "name": "stdout",
     "output_type": "stream",
     "text": [
      "shiva\n"
     ]
    }
   ],
   "source": [
    "first_name = \"shiva\"\n",
    "print(first_name)"
   ]
  },
  {
   "cell_type": "markdown",
   "id": "a1a1c229",
   "metadata": {},
   "source": [
    "## User-Input"
   ]
  },
  {
   "cell_type": "code",
   "execution_count": 47,
   "id": "37f235e4",
   "metadata": {},
   "outputs": [
    {
     "name": "stdout",
     "output_type": "stream",
     "text": [
      "Enter Your Name: Shiva Nagendra Babu\n",
      "Shiva Nagendra Babu\n"
     ]
    }
   ],
   "source": [
    "# input()\n",
    "name = input(\"Enter Your Name: \")\n",
    "print(name)"
   ]
  },
  {
   "cell_type": "code",
   "execution_count": 50,
   "id": "e17a8a1e",
   "metadata": {},
   "outputs": [
    {
     "name": "stdout",
     "output_type": "stream",
     "text": [
      "Enter the First Number: 123\n",
      "Enter the Second Number: 123\n",
      "Result is: 246\n"
     ]
    }
   ],
   "source": [
    "first_number = int(input(\"Enter the First Number: \"))\n",
    "second_number = int(input(\"Enter the Second Number: \"))\n",
    "Total = first_number + second_number\n",
    "print(\"Result is:\",Total)"
   ]
  },
  {
   "cell_type": "code",
   "execution_count": 51,
   "id": "79393537",
   "metadata": {},
   "outputs": [
    {
     "data": {
      "text/plain": [
       "int"
      ]
     },
     "execution_count": 51,
     "metadata": {},
     "output_type": "execute_result"
    }
   ],
   "source": [
    "# type()\n",
    "type(first_number)"
   ]
  },
  {
   "cell_type": "markdown",
   "id": "93151832",
   "metadata": {},
   "source": [
    "## Type-conversion"
   ]
  },
  {
   "cell_type": "code",
   "execution_count": 52,
   "id": "a62b0ff8",
   "metadata": {},
   "outputs": [],
   "source": [
    "# Converting one data type to another data type\n",
    "# implicit type conversion\n",
    "# explicit type conversion"
   ]
  },
  {
   "cell_type": "code",
   "execution_count": 53,
   "id": "afd0c50a",
   "metadata": {},
   "outputs": [
    {
     "data": {
      "text/plain": [
       "9.5"
      ]
     },
     "execution_count": 53,
     "metadata": {},
     "output_type": "execute_result"
    }
   ],
   "source": [
    "4 + 5.5"
   ]
  },
  {
   "cell_type": "code",
   "execution_count": 54,
   "id": "97e02b69",
   "metadata": {},
   "outputs": [
    {
     "data": {
      "text/plain": [
       "4"
      ]
     },
     "execution_count": 54,
     "metadata": {},
     "output_type": "execute_result"
    }
   ],
   "source": [
    "int(4.5)"
   ]
  },
  {
   "cell_type": "code",
   "execution_count": 55,
   "id": "1f0aea21",
   "metadata": {},
   "outputs": [
    {
     "data": {
      "text/plain": [
       "234"
      ]
     },
     "execution_count": 55,
     "metadata": {},
     "output_type": "execute_result"
    }
   ],
   "source": [
    "a = int('234')"
   ]
  },
  {
   "cell_type": "code",
   "execution_count": 56,
   "id": "61db467c",
   "metadata": {},
   "outputs": [
    {
     "data": {
      "text/plain": [
       "int"
      ]
     },
     "execution_count": 56,
     "metadata": {},
     "output_type": "execute_result"
    }
   ],
   "source": [
    "type(a)"
   ]
  },
  {
   "cell_type": "code",
   "execution_count": 57,
   "id": "6e0954a3",
   "metadata": {},
   "outputs": [
    {
     "data": {
      "text/plain": [
       "3.0"
      ]
     },
     "execution_count": 57,
     "metadata": {},
     "output_type": "execute_result"
    }
   ],
   "source": [
    "float (3)"
   ]
  },
  {
   "cell_type": "code",
   "execution_count": 58,
   "id": "9379c702",
   "metadata": {},
   "outputs": [
    {
     "data": {
      "text/plain": [
       "'4'"
      ]
     },
     "execution_count": 58,
     "metadata": {},
     "output_type": "execute_result"
    }
   ],
   "source": [
    "str(4)"
   ]
  },
  {
   "cell_type": "code",
   "execution_count": 59,
   "id": "34ff4e50",
   "metadata": {},
   "outputs": [
    {
     "data": {
      "text/plain": [
       "True"
      ]
     },
     "execution_count": 59,
     "metadata": {},
     "output_type": "execute_result"
    }
   ],
   "source": [
    "bool(1)"
   ]
  },
  {
   "cell_type": "code",
   "execution_count": 60,
   "id": "b54d4663",
   "metadata": {},
   "outputs": [
    {
     "data": {
      "text/plain": [
       "(5+0j)"
      ]
     },
     "execution_count": 60,
     "metadata": {},
     "output_type": "execute_result"
    }
   ],
   "source": [
    "complex(5)"
   ]
  },
  {
   "cell_type": "code",
   "execution_count": 61,
   "id": "0c34530e",
   "metadata": {},
   "outputs": [
    {
     "data": {
      "text/plain": [
       "['S', 'h', 'i', 'v', 'a']"
      ]
     },
     "execution_count": 61,
     "metadata": {},
     "output_type": "execute_result"
    }
   ],
   "source": [
    "list(\"Shiva\")"
   ]
  },
  {
   "cell_type": "code",
   "execution_count": 62,
   "id": "e5842543",
   "metadata": {},
   "outputs": [
    {
     "data": {
      "text/plain": [
       "('s', 'h', 'i', 'v', 'a')"
      ]
     },
     "execution_count": 62,
     "metadata": {},
     "output_type": "execute_result"
    }
   ],
   "source": [
    "tuple('shiva')"
   ]
  },
  {
   "cell_type": "code",
   "execution_count": 65,
   "id": "4271bc54",
   "metadata": {},
   "outputs": [],
   "source": [
    "a = 4.5"
   ]
  },
  {
   "cell_type": "code",
   "execution_count": 67,
   "id": "1b3f5f2a",
   "metadata": {},
   "outputs": [
    {
     "data": {
      "text/plain": [
       "4"
      ]
     },
     "execution_count": 67,
     "metadata": {},
     "output_type": "execute_result"
    }
   ],
   "source": [
    "int(a)"
   ]
  },
  {
   "cell_type": "code",
   "execution_count": 68,
   "id": "a978cffa",
   "metadata": {},
   "outputs": [
    {
     "data": {
      "text/plain": [
       "4.5"
      ]
     },
     "execution_count": 68,
     "metadata": {},
     "output_type": "execute_result"
    }
   ],
   "source": [
    "a"
   ]
  },
  {
   "cell_type": "markdown",
   "id": "d0cba2e4",
   "metadata": {},
   "source": [
    "## Literals"
   ]
  },
  {
   "cell_type": "code",
   "execution_count": null,
   "id": "0f33273b",
   "metadata": {},
   "outputs": [],
   "source": [
    "# Literals a raw data given in a variale. \n",
    "# In Python there are 4 types of literals\n",
    "# 1. Numerical Literals\n",
    "# 2. String Literals\n",
    "# 3. Boolean Literals\n",
    "# 4. Special Literals"
   ]
  },
  {
   "cell_type": "code",
   "execution_count": 88,
   "id": "53fa69a7",
   "metadata": {},
   "outputs": [],
   "source": [
    "a = 0b1010 # binary literals\n",
    "b = 100 # Decimal Literals\n",
    "c = 0o310 # Octal Literals\n",
    "d = 0x12c # Hexa decimal Literals"
   ]
  },
  {
   "cell_type": "code",
   "execution_count": 89,
   "id": "236e144e",
   "metadata": {},
   "outputs": [
    {
     "name": "stdout",
     "output_type": "stream",
     "text": [
      "10\n",
      "100\n",
      "200\n",
      "300\n"
     ]
    }
   ],
   "source": [
    "print(a)\n",
    "print(b)\n",
    "print(c)\n",
    "print(d)"
   ]
  },
  {
   "cell_type": "code",
   "execution_count": 90,
   "id": "faac6003",
   "metadata": {},
   "outputs": [],
   "source": [
    "# Float Literals\n",
    "float_1 = 10.5\n",
    "float_2 = 1.5e2 # 1.5 x 10 to the power 2\n",
    "float_3 = 1.5e-3 # 1.5 x 10 to the power minus 3"
   ]
  },
  {
   "cell_type": "code",
   "execution_count": 91,
   "id": "5d2e7417",
   "metadata": {},
   "outputs": [
    {
     "name": "stdout",
     "output_type": "stream",
     "text": [
      "10.5\n",
      "150.0\n",
      "0.0015\n"
     ]
    }
   ],
   "source": [
    "print(float_1)\n",
    "print(float_2)\n",
    "print(float_3)"
   ]
  },
  {
   "cell_type": "code",
   "execution_count": 92,
   "id": "7dc50b1b",
   "metadata": {},
   "outputs": [
    {
     "name": "stdout",
     "output_type": "stream",
     "text": [
      "3.14j\n",
      "3.14\n",
      "0.0\n"
     ]
    }
   ],
   "source": [
    "# Complex Literals\n",
    "x = 3.14j\n",
    "print(x)\n",
    "print(x.imag) # imginary Part\n",
    "print(x.real) # Real Part "
   ]
  },
  {
   "cell_type": "code",
   "execution_count": 97,
   "id": "ca896e5e",
   "metadata": {},
   "outputs": [],
   "source": [
    "# 2. String Literals\n",
    "string = 'This is Python'\n",
    "strings= \" This is Python\"\n",
    "Multiline_string = \"\"\"This is a python programming Language\"\"\"\n",
    "char = \"C\"\n",
    "unicode = u\"\\U0001f600\" # For Emojies\n",
    "raw_string = r\"this is a raw \\n string\""
   ]
  },
  {
   "cell_type": "code",
   "execution_count": 98,
   "id": "5c610810",
   "metadata": {},
   "outputs": [
    {
     "name": "stdout",
     "output_type": "stream",
     "text": [
      " This is Python\n",
      " This is Python\n",
      "This is a python programming Language\n",
      "C\n",
      "😀\n",
      "this is a raw \\n string\n"
     ]
    }
   ],
   "source": [
    "print(strings)\n",
    "print(strings)\n",
    "print(Multiline_string)\n",
    "print(char)\n",
    "print(unicode)\n",
    "print(raw_string)"
   ]
  },
  {
   "cell_type": "code",
   "execution_count": 99,
   "id": "d4b257d5",
   "metadata": {},
   "outputs": [
    {
     "name": "stdout",
     "output_type": "stream",
     "text": [
      "a: 5\n",
      "b: 10\n"
     ]
    }
   ],
   "source": [
    "# 3. Boolean Literals\n",
    "a = True + 4 # Here Implicit type conversion \n",
    "# True = 1 and False = 0\n",
    "b = False + 10 \n",
    "print(\"a:\",a)\n",
    "print(\"b:\",b)"
   ]
  },
  {
   "cell_type": "code",
   "execution_count": 100,
   "id": "80d5d759",
   "metadata": {},
   "outputs": [
    {
     "name": "stdout",
     "output_type": "stream",
     "text": [
      "None\n"
     ]
    }
   ],
   "source": [
    "# Special Literals(None)\n",
    "# Only Variable declaration in pythonf\n",
    "a = None\n",
    "print(a)"
   ]
  },
  {
   "cell_type": "markdown",
   "id": "b139a3cd",
   "metadata": {},
   "source": [
    "## Operators"
   ]
  },
  {
   "cell_type": "code",
   "execution_count": 101,
   "id": "8711bcaa",
   "metadata": {},
   "outputs": [],
   "source": [
    "# definition = Operators are used to perform operations on variables and values\n",
    "# 1. Arthimatic operators\n",
    "# 2. Comparsion or Relationals operators\n",
    "# 3. Logical operators\n",
    "# 4. Bitwise Operators\n",
    "# 5. Assignments Operators\n",
    "# 6. Identity Operators\n",
    "# 7. Membership Operators"
   ]
  },
  {
   "cell_type": "code",
   "execution_count": 103,
   "id": "4a01a455",
   "metadata": {},
   "outputs": [
    {
     "name": "stdout",
     "output_type": "stream",
     "text": [
      "7\n",
      "3\n",
      "10\n",
      "2.5\n",
      "1\n",
      "25\n",
      "2\n"
     ]
    }
   ],
   "source": [
    "# 1 . Arthimatic operators\n",
    "x = 5\n",
    "y = 2\n",
    "print(x + y)\n",
    "print(x - y)\n",
    "print(x * y)\n",
    "print(x / y) # True Division\n",
    "print(x % y) # modulus operator , Remains remainder\n",
    "print(x**y) # power \n",
    "print(x//y) # Integer DIvision\n"
   ]
  },
  {
   "cell_type": "code",
   "execution_count": 105,
   "id": "56dbf0f8",
   "metadata": {},
   "outputs": [
    {
     "name": "stdout",
     "output_type": "stream",
     "text": [
      "True\n",
      "False\n",
      "False\n",
      "True\n",
      "True\n"
     ]
    }
   ],
   "source": [
    "# 2. Comparison Operators or Relation operators\n",
    "print(x>y)\n",
    "print(x<y)\n",
    "print(x<=y)\n",
    "print(x>=y)\n",
    "print(x!=y)"
   ]
  },
  {
   "cell_type": "code",
   "execution_count": 108,
   "id": "1bed1101",
   "metadata": {},
   "outputs": [
    {
     "name": "stdout",
     "output_type": "stream",
     "text": [
      "True\n",
      "False\n",
      "True\n",
      "False\n"
     ]
    }
   ],
   "source": [
    "# Logical Operators\n",
    "x = True\n",
    "y = False\n",
    "\n",
    "print( x or y) # or means if any of two is true \n",
    "print(x and y)  # and means Flase if any one is false , if both are true then its true\n",
    "print(not y)\n",
    "print(not x)"
   ]
  },
  {
   "cell_type": "code",
   "execution_count": 110,
   "id": "72d011fd",
   "metadata": {},
   "outputs": [
    {
     "name": "stdout",
     "output_type": "stream",
     "text": [
      "2\n"
     ]
    }
   ],
   "source": [
    "# Bitwise Operators\n",
    "\n",
    "x = 2\n",
    "y = 3\n",
    "print(x & y ) \n",
    "# Binary\n",
    "# x = 010\n",
    "# y = 110\n",
    "# --------\n",
    "#     010 = 2\n"
   ]
  },
  {
   "cell_type": "code",
   "execution_count": 113,
   "id": "5fdea18c",
   "metadata": {},
   "outputs": [
    {
     "name": "stdout",
     "output_type": "stream",
     "text": [
      "3\n"
     ]
    }
   ],
   "source": [
    "print(x | y) # or bitwise operator\n",
    "# x = 010\n",
    "# y = 110\n",
    "#-------------\n",
    "#    110 = 3"
   ]
  },
  {
   "cell_type": "code",
   "execution_count": 114,
   "id": "9579e193",
   "metadata": {},
   "outputs": [
    {
     "name": "stdout",
     "output_type": "stream",
     "text": [
      "0\n"
     ]
    }
   ],
   "source": [
    "print(x>>2) # right shift "
   ]
  },
  {
   "cell_type": "code",
   "execution_count": 116,
   "id": "d91f3e16",
   "metadata": {},
   "outputs": [
    {
     "name": "stdout",
     "output_type": "stream",
     "text": [
      "24\n"
     ]
    }
   ],
   "source": [
    "print(y<<3) # left shift"
   ]
  },
  {
   "cell_type": "code",
   "execution_count": 118,
   "id": "6d6da6c6",
   "metadata": {},
   "outputs": [
    {
     "name": "stdout",
     "output_type": "stream",
     "text": [
      "-3\n"
     ]
    }
   ],
   "source": [
    "print(~x) # ones's compliment "
   ]
  },
  {
   "cell_type": "code",
   "execution_count": 135,
   "id": "4c78ff62",
   "metadata": {},
   "outputs": [
    {
     "name": "stdout",
     "output_type": "stream",
     "text": [
      "3\n"
     ]
    }
   ],
   "source": [
    "# Assignment Operators\n",
    "a = 3\n",
    "print(a)"
   ]
  },
  {
   "cell_type": "code",
   "execution_count": 136,
   "id": "dd2ae672",
   "metadata": {},
   "outputs": [
    {
     "name": "stdout",
     "output_type": "stream",
     "text": [
      "6\n"
     ]
    }
   ],
   "source": [
    "a+=3\n",
    "print(a)"
   ]
  },
  {
   "cell_type": "code",
   "execution_count": 129,
   "id": "9f0a382d",
   "metadata": {},
   "outputs": [
    {
     "name": "stdout",
     "output_type": "stream",
     "text": [
      "0\n"
     ]
    }
   ],
   "source": [
    "a-=3\n",
    "print(a)"
   ]
  },
  {
   "cell_type": "code",
   "execution_count": 137,
   "id": "fb87d54a",
   "metadata": {},
   "outputs": [
    {
     "name": "stdout",
     "output_type": "stream",
     "text": [
      "198\n"
     ]
    }
   ],
   "source": [
    "b*=3\n",
    "a&=3\n",
    "print(b)"
   ]
  },
  {
   "cell_type": "code",
   "execution_count": null,
   "id": "eaeceee6",
   "metadata": {},
   "outputs": [],
   "source": [
    "# Identity Operator\n",
    "# is operator say two things are in same memory locations are not"
   ]
  },
  {
   "cell_type": "code",
   "execution_count": 138,
   "id": "5c1b4727",
   "metadata": {},
   "outputs": [
    {
     "data": {
      "text/plain": [
       "False"
      ]
     },
     "execution_count": 138,
     "metadata": {},
     "output_type": "execute_result"
    }
   ],
   "source": [
    "a is b"
   ]
  },
  {
   "cell_type": "code",
   "execution_count": 139,
   "id": "02e55db6",
   "metadata": {},
   "outputs": [
    {
     "name": "stdout",
     "output_type": "stream",
     "text": [
      "False\n"
     ]
    }
   ],
   "source": [
    "a = \"Shiva\"\n",
    "b = \"SHiva\"\n",
    "print(a is b)"
   ]
  },
  {
   "cell_type": "code",
   "execution_count": 140,
   "id": "815588d4",
   "metadata": {},
   "outputs": [
    {
     "name": "stdout",
     "output_type": "stream",
     "text": [
      "True\n"
     ]
    }
   ],
   "source": [
    "a = \"1\"\n",
    "b = \"1\"\n",
    "print(a is b)"
   ]
  },
  {
   "cell_type": "code",
   "execution_count": 141,
   "id": "d353fa7d",
   "metadata": {},
   "outputs": [
    {
     "name": "stdout",
     "output_type": "stream",
     "text": [
      "False\n"
     ]
    }
   ],
   "source": [
    "a = [1,2,3]\n",
    "b = [1,2,3]\n",
    "print(a is b)"
   ]
  },
  {
   "cell_type": "code",
   "execution_count": null,
   "id": "45e9dfb7",
   "metadata": {},
   "outputs": [],
   "source": [
    "# Membership Operator\n",
    "# in"
   ]
  },
  {
   "cell_type": "code",
   "execution_count": 142,
   "id": "6284d2f9",
   "metadata": {},
   "outputs": [
    {
     "name": "stdout",
     "output_type": "stream",
     "text": [
      "True\n"
     ]
    }
   ],
   "source": [
    "x = \"Delhi\"\n",
    "print(\"D\" in x)"
   ]
  },
  {
   "cell_type": "code",
   "execution_count": 143,
   "id": "aa0cce95",
   "metadata": {},
   "outputs": [
    {
     "name": "stdout",
     "output_type": "stream",
     "text": [
      "False\n"
     ]
    }
   ],
   "source": [
    "print(\"D\" not in x) "
   ]
  },
  {
   "cell_type": "code",
   "execution_count": null,
   "id": "5eddb56f",
   "metadata": {},
   "outputs": [],
   "source": [
    "x = [1,]"
   ]
  },
  {
   "cell_type": "markdown",
   "id": "d7015506",
   "metadata": {},
   "source": [
    "## If- else Statements"
   ]
  },
  {
   "cell_type": "code",
   "execution_count": null,
   "id": "002e709c",
   "metadata": {},
   "outputs": [],
   "source": []
  }
 ],
 "metadata": {
  "kernelspec": {
   "display_name": "Python 3 (ipykernel)",
   "language": "python",
   "name": "python3"
  },
  "language_info": {
   "codemirror_mode": {
    "name": "ipython",
    "version": 3
   },
   "file_extension": ".py",
   "mimetype": "text/x-python",
   "name": "python",
   "nbconvert_exporter": "python",
   "pygments_lexer": "ipython3",
   "version": "3.11.4"
  }
 },
 "nbformat": 4,
 "nbformat_minor": 5
}
